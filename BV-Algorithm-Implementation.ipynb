{
 "cells": [
  {
   "cell_type": "code",
   "execution_count": 17,
   "metadata": {},
   "outputs": [],
   "source": [
    "# initialization\n",
    "import matplotlib.pyplot as plt\n",
    "import numpy as np\n",
    "\n",
    "# importing Qiskit\n",
    "from qiskit import IBMQ, Aer\n",
    "from qiskit.providers.ibmq import least_busy\n",
    "from qiskit import QuantumCircuit, ClassicalRegister, QuantumRegister, transpile, assemble\n",
    "\n",
    "# import basic plot tools\n",
    "from qiskit.visualization import plot_histogram"
   ]
  },
  {
   "cell_type": "code",
   "execution_count": 18,
   "metadata": {},
   "outputs": [],
   "source": [
    "n = 2 # number of qubits used to represent s\n",
    "s = '11'   # the hidden binary string"
   ]
  },
  {
   "cell_type": "code",
   "execution_count": 19,
   "metadata": {},
   "outputs": [
    {
     "data": {
      "image/png": "[encoded data removed]",
      "text/plain": [
       "<Figure size 719.992x264.88 with 1 Axes>"
      ]
     },
     "execution_count": 19,
     "metadata": {},
     "output_type": "execute_result"
    }
   ],
   "source": [
    "# We need a circuit with n qubits, plus one auxiliary qubit\n",
    "# Also need n classical bits to write the output to\n",
    "bv_circuit = QuantumCircuit(n+1, n)\n",
    "\n",
    "# put auxiliary in state |->\n",
    "bv_circuit.h(n)\n",
    "bv_circuit.z(n)\n",
    "\n",
    "# Apply Hadamard gates before querying the oracle\n",
    "for i in range(n):\n",
    "    bv_circuit.h(i)\n",
    "\n",
    "# Apply barrier \n",
    "bv_circuit.barrier()\n",
    "\n",
    "# Apply the inner-product oracle\n",
    "s = s[::-1] # reverse s to fit qiskit's qubit ordering\n",
    "\n",
    "for q in range(n):\n",
    "    if s[q] == '0':\n",
    "        bv_circuit.i(q)\n",
    "    else:\n",
    "        bv_circuit.cx(q, n)\n",
    "\n",
    "# Apply barrier \n",
    "bv_circuit.barrier()\n",
    "\n",
    "#Apply Hadamard gates after querying the oracle\n",
    "for i in range(n):\n",
    "    bv_circuit.h(i)\n",
    "\n",
    "# Measurement\n",
    "for i in range(n):\n",
    "    bv_circuit.measure(i, i)\n",
    "\n",
    "bv_circuit.draw(output='mpl')\n"
   ]
  },
  {
   "cell_type": "code",
   "execution_count": 20,
   "metadata": {},
   "outputs": [
    {
     "data": {
      "image/png": "[encoded data removed]",
      "text/plain": [
       "<Figure size 504x360 with 1 Axes>"
      ]
     },
     "execution_count": 20,
     "metadata": {},
     "output_type": "execute_result"
    }
   ],
   "source": [
    "# use local simulator\n",
    "qasm_sim = Aer.get_backend('qasm_simulator')\n",
    "shots = 1024\n",
    "qobj = assemble(bv_circuit)\n",
    "results = qasm_sim.run(qobj).result()\n",
    "answer = results.get_counts()\n",
    "\n",
    "plot_histogram(answer)"
   ]
  },
  {
   "cell_type": "code",
   "execution_count": 21,
   "metadata": {},
   "outputs": [
    {
     "name": "stderr",
     "output_type": "stream",
     "text": [
      "ibmqfactory.load_account:WARNING:2021-05-06 22:26:30,911: Credentials are already in use. The existing account in the session will be replaced.\n"
     ]
    },
    {
     "name": "stdout",
     "output_type": "stream",
     "text": [
      "Job Status: job has successfully run\n",
      "Job Status: job has successfully run\n",
      "Job Status: job has successfully run\n",
      "Job Status: job has successfully run\n",
      "Job Status: job has successfully run\n"
     ]
    }
   ],
   "source": [
    "from qiskit.tools.monitor import job_monitor\n",
    "IBMQ.load_account()\n",
    "provider = IBMQ.get_provider(hub='ibm-q-lanl', group='lanl', project='quantum-optimiza')\n",
    "provider.backends()\n",
    "backend = provider.get_backend(\"ibmq_toronto\")\n",
    "\n",
    "output = []\n",
    "for i in range (5):\n",
    "    shots = 1024\n",
    "    transpiled_bv_circuit = transpile(bv_circuit, backend)\n",
    "    qobj = assemble(transpiled_bv_circuit, shots=shots)\n",
    "    job = backend.run(qobj)\n",
    "    job_monitor(job, interval=2)\n",
    "    results = job.result()\n",
    "    answer = results.get_counts()\n",
    "    output.append(answer['11']/1024)\n",
    "    plot_histogram(answer)"
   ]
  },
  {
   "cell_type": "code",
   "execution_count": 22,
   "metadata": {},
   "outputs": [
    {
     "name": "stdout",
     "output_type": "stream",
     "text": [
      "[0.66015625, 0.6162109375, 0.67578125, 0.76953125, 0.7685546875]\n"
     ]
    }
   ],
   "source": [
    "print((output))"
   ]
  }
 ],
 "metadata": {
  "kernelspec": {
   "display_name": "Python 3.7.7 64-bit",
   "language": "python",
   "name": "python37764bitf02d787555c14b0daac31d6662c542fd"
  },
  "language_info": {
   "codemirror_mode": {
    "name": "ipython",
    "version": 3
   },
   "file_extension": ".py",
   "mimetype": "text/x-python",
   "name": "python",
   "nbconvert_exporter": "python",
   "pygments_lexer": "ipython3",
   "version": "3.9.7"
  }
 },
 "nbformat": 4,
 "nbformat_minor": 4
}
